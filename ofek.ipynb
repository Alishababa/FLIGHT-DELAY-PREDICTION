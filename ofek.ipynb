{
 "cells": [
  {
   "cell_type": "code",
   "execution_count": null,
   "metadata": {},
   "outputs": [],
   "source": [
    "import requests\n",
    "import json\n",
    "import datetime\n",
    "import pandas as pd\n",
    "from selenium import webdriver\n",
    "\n",
    "brower = webdriver.PhantomJS()\n",
    "browser.get('https://www.flightradar24.com/data/airports/tlv/arrivals')\n",
    "\n",
    "soup = BeautifulSoup(broswer.page_source, \"html.parser\")\n",
    "result = soup.find_all(\"tr\", {\"id\" : \"hidden-md hidden-lg ng-scope\"})\n",
    "\n",
    "for item in result : \n",
    "    print(item.text.split())\n",
    "\n",
    "\n",
    "browser.quit()"
   ]
  },
  {
   "cell_type": "code",
   "execution_count": null,
   "metadata": {},
   "outputs": [],
   "source": [
    "import requests\n",
    "from bs4 import BeautifulSoup\n",
    "import pandas as pd\n",
    "\n",
    "# Define the URL of the page containing the table\n",
    "url = \"https://www.flightradar24.com/data/airports/tlv/arrivals\"\n",
    "\n",
    "# Send a GET request to the URL and get the page HTML content\n",
    "response = requests.get(url)\n",
    "html_content = response.content\n",
    "\n",
    "# Parse the HTML content using BeautifulSoup\n",
    "soup = BeautifulSoup(html_content, \"html.parser\")\n",
    "\n",
    "# Find the table with class 'wikitable'\n",
    "table = soup.find(\"table\", {\"class\": \"row cnt-schedule-table\"})\n",
    "\n",
    "# Find all the rows in the table\n",
    "rows = table.find_all(\"tr\")\n",
    "\n",
    "# Create an empty list to store the data\n",
    "data = []\n",
    "\n",
    "# Iterate over the rows and extract the data from the columns\n",
    "for row in rows:\n",
    "    columns = row.find_all(\"td\")\n",
    "    if len(columns) > 0:\n",
    "        symbol = columns[0].text.strip()\n",
    "        name = columns[1].text.strip()\n",
    "        decimal = columns[2].text.strip()\n",
    "        hex_val = columns[3].text.strip()\n",
    "        binary = columns[4].text.strip()\n",
    "        data.append([symbol, name, decimal, hex_val, binary])\n",
    "\n",
    "# Create a Pandas DataFrame from the data\n",
    "df = pd.DataFrame(data, columns=[\"Symbol\", \"Name\", \"Decimal\", \"Hex\", \"Binary\"])\n",
    "\n",
    "# Print the DataFrame\n",
    "print(df)"
   ]
  }
 ],
 "metadata": {
  "language_info": {
   "name": "python"
  },
  "orig_nbformat": 4
 },
 "nbformat": 4,
 "nbformat_minor": 2
}
